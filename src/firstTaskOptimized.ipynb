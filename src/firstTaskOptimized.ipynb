{
 "cells": [
  {
   "cell_type": "code",
   "execution_count": 0,
   "metadata": {
    "id": "1qcN_Yl5Obf2",
    "colab_type": "code",
    "colab": {}
   },
   "outputs": [],
   "source": [
    "from keras.preprocessing.image import ImageDataGenerator\n",
    "\n",
    "#paths definition\n",
    "outPutToSave = \"D:/GoogleDrive/DatasetsMachineLearning/FirstTaskModel/\"  #path where save the model and plots images\n",
    "train_dir = \"D:/GoogleDrive/Machine_Learning_Project-Classification+SRCNN/firstTaskData/training\"  #change with your path (sharedFolder->firstTaskData->training\n",
    "validation_dir = \"D:/GoogleDrive/Machine_Learning_Project-Classification+SRCNN/firstTaskData/validation\"  #change with your path (sharedFolder->firstTaskData->validation\n"
   ]
  },
  {
   "cell_type": "code",
   "execution_count": 0,
   "metadata": {
    "id": "dNNuHNf5Ocbp",
    "colab_type": "code",
    "outputId": "6628816a-b34f-4c58-df90-d8cf42fc6728",
    "executionInfo": {
     "status": "ok",
     "timestamp": 1.548842156606E12,
     "user_tz": -60.0,
     "elapsed": 656.0,
     "user": {
      "displayName": "Elena Mastria",
      "photoUrl": "https://lh3.googleusercontent.com/-uyfNtBLek5Q/AAAAAAAAAAI/AAAAAAAAad4/s4SIU2URufM/s64/photo.jpg",
      "userId": "07730870440122804120"
     }
    },
    "colab": {
     "base_uri": "https://localhost:8080/",
     "height": 101.0
    }
   },
   "outputs": [
    {
     "name": "stdout",
     "output_type": "stream",
     "text": [
      "Found 1600 images belonging to 2 classes.\n",
      "Found 200 images belonging to 2 classes.\n",
      "data batch shape: (10, 255, 255, 3)\n",
      "labels batch shape: (10,)\n",
      "[0. 0. 0. 0. 1. 1. 1. 0. 0. 0.]\n"
     ]
    }
   ],
   "source": [
    "train_datagen = ImageDataGenerator(rescale=1. / 255)\n",
    "test_datagen = ImageDataGenerator(rescale=1. / 255)\n",
    "random = True\n",
    "seed = 42\n",
    "shape = (255, 255)\n",
    "shapeWithChannels = (255, 255, 3)\n",
    "train_generator = train_datagen.flow_from_directory(train_dir,\n",
    "                                                    target_size=shape,\n",
    "                                                    batch_size=10,\n",
    "                                                    class_mode='binary', shuffle=random,\n",
    "                                                    seed=seed)\n",
    "validation_generator = test_datagen.flow_from_directory(\n",
    "    validation_dir, target_size=shape,\n",
    "    batch_size=10,\n",
    "    class_mode='binary', shuffle=random,\n",
    "    seed=seed)\n",
    "\n",
    "for data_batch, labels_batch in train_generator:\n",
    "    print('data batch shape:', data_batch.shape)\n",
    "    print('labels batch shape:', labels_batch.shape)\n",
    "    print(labels_batch[0:10])\n",
    "    break\n"
   ]
  },
  {
   "cell_type": "code",
   "execution_count": 0,
   "metadata": {
    "id": "5vRtEAZXOjPW",
    "colab_type": "code",
    "colab": {}
   },
   "outputs": [],
   "source": [
    "from keras import layers\n",
    "from keras import models\n",
    "\n",
    "model = models.Sequential()\n",
    "\n",
    "model.add(layers.Conv2D(8, (3, 3), input_shape=shapeWithChannels))\n",
    "model.add(layers.Conv2D(16, (4, 4), activation='relu'))\n",
    "model.add(layers.GlobalMaxPool2D())\n",
    "model.add(layers.Dense(32, activation='relu'))\n",
    "model.add(layers.Dense(1, activation='sigmoid'))\n",
    "\n",
    "model.summary()\n"
   ]
  },
  {
   "cell_type": "code",
   "execution_count": 0,
   "metadata": {
    "id": "E42_welYOl-3",
    "colab_type": "code",
    "outputId": "1b895218-4815-4ee8-e2c3-780f681fec1f",
    "executionInfo": {
     "status": "ok",
     "timestamp": 1.548842164391E12,
     "user_tz": -60.0,
     "elapsed": 508.0,
     "user": {
      "displayName": "Elena Mastria",
      "photoUrl": "https://lh3.googleusercontent.com/-uyfNtBLek5Q/AAAAAAAAAAI/AAAAAAAAad4/s4SIU2URufM/s64/photo.jpg",
      "userId": "07730870440122804120"
     }
    },
    "colab": {
     "base_uri": "https://localhost:8080/",
     "height": 302.0
    }
   },
   "outputs": [
    {
     "name": "stdout",
     "output_type": "stream",
     "text": [
      "_________________________________________________________________\n",
      "Layer (type)                 Output Shape              Param #   \n",
      "=================================================================\n",
      "conv2d_1 (Conv2D)            (None, 253, 253, 8)       224       \n",
      "_________________________________________________________________\n",
      "conv2d_2 (Conv2D)            (None, 250, 250, 16)      2064      \n",
      "_________________________________________________________________\n",
      "global_max_pooling2d_1 (Glob (None, 16)                0         \n",
      "_________________________________________________________________\n",
      "dense_1 (Dense)              (None, 32)                544       \n",
      "_________________________________________________________________\n",
      "dense_2 (Dense)              (None, 1)                 33        \n",
      "=================================================================\n",
      "Total params: 2,865\n",
      "Trainable params: 2,865\n",
      "Non-trainable params: 0\n",
      "_________________________________________________________________\n"
     ]
    }
   ],
   "source": [
    "history = model.fit_generator(\n",
    "    train_generator,\n",
    "    steps_per_epoch=100,\n",
    "    epochs=20,\n",
    "    validation_data=validation_generator,\n",
    "    validation_steps=50)\n",
    "model.save(outPutToSave+'firstTaskModel.h5')\n"
   ]
  },
  {
   "cell_type": "code",
   "execution_count": 0,
   "metadata": {
    "id": "vWXXyd4OOrxh",
    "colab_type": "code",
    "outputId": "c40f2a3e-3e3b-446a-a411-4aa79f6195db",
    "executionInfo": {
     "status": "ok",
     "timestamp": 1.548842812568E12,
     "user_tz": -60.0,
     "elapsed": 1342.0,
     "user": {
      "displayName": "Elena Mastria",
      "photoUrl": "https://lh3.googleusercontent.com/-uyfNtBLek5Q/AAAAAAAAAAI/AAAAAAAAad4/s4SIU2URufM/s64/photo.jpg",
      "userId": "07730870440122804120"
     }
    },
    "colab": {
     "base_uri": "https://localhost:8080/",
     "height": 706.0
    }
   },
   "outputs": [
    {
     "data": {
      "image/png": "[encoded data removed]",
      "text/plain": [
       "<Figure size 576x396 with 1 Axes>"
      ]
     },
     "metadata": {
      "tags": []
     },
     "output_type": "display_data"
    },
    {
     "data": {
      "image/png": "[encoded data removed]",
      "text/plain": [
       "<Figure size 576x396 with 1 Axes>"
      ]
     },
     "metadata": {
      "tags": []
     },
     "output_type": "display_data"
    }
   ],
   "source": [
    "import matplotlib.pyplot as plt\n",
    "acc = history.history['acc']\n",
    "val_acc = history.history['val_acc']\n",
    "loss = history.history['loss']\n",
    "val_loss = history.history['val_loss']\n",
    "epochs = range(1, len(acc) + 1)\n",
    "plt.plot(epochs, acc, 'bo', label='Training acc')\n",
    "plt.plot(epochs, val_acc, 'b',color='red', label='Validation acc')\n",
    "plt.title('Training and validation accuracy')\n",
    "plt.legend()\n",
    "plt.savefig(outPutToSave+'bestResultWith2865ParameterAccuracy.png')\n",
    "plt.figure()\n",
    "plt.plot(epochs, loss, 'bo', label='Training loss')\n",
    "plt.plot(epochs, val_loss, 'b',color='red', label='Validation loss')\n",
    "plt.title('Training and validation loss')\n",
    "plt.legend()\n",
    "plt.savefig(outPutToSave+'result.png')\n",
    "plt.show()"
   ]
  },
  {
   "cell_type": "code",
   "execution_count": 0,
   "metadata": {
    "id": "2eXfvbxGJtr-",
    "colab_type": "code",
    "colab": {}
   },
   "outputs": [],
   "source": [
    "model.save(outPutToSave+'modelParameter.h5')\n",
    "model.save_weights(outPutToSave+\"modelWeights.h5\")\n",
    "model_json = model.to_json()\n",
    "with open(outPutToSave+\"modelParameter.json\", \"w\") as json_file:\n",
    "    json_file.write(model_json)"
   ]
  },
  {
   "cell_type": "code",
   "execution_count": 0,
   "metadata": {
    "id": "6vmAv8MpL-7c",
    "colab_type": "code",
    "colab": {}
   },
   "outputs": [],
   "source": [
    "from keras.utils.vis_utils import plot_model\n",
    "plot_model(model, to_file=outPutToSave+'resultParameterModel.png', show_shapes=True, show_layer_names=True)"
   ]
  },
  {
   "cell_type": "code",
   "execution_count": 0,
   "metadata": {
    "id": "g26S1LGbOSp_",
    "colab_type": "code",
    "colab": {}
   },
   "outputs": [],
   "source": [
    "from contextlib import redirect_stdout\n",
    "\n",
    "with open(outPutToSave + \"modelParameter.txt\", \"w\") as model_summary:\n",
    "    with redirect_stdout(model_summary):\n",
    "        model.summary()\n"
   ]
  }
 ],
 "metadata": {
  "colab": {
   "name": "pj.ipynb",
   "version": "0.3.2",
   "provenance": [],
   "collapsed_sections": []
  },
  "kernelspec": {
   "name": "python3",
   "display_name": "Python 3"
  },
  "accelerator": "GPU"
 },
 "nbformat": 4,
 "nbformat_minor": 0
}
